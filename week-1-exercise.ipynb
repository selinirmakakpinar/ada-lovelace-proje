{
 "cells": [
  {
   "cell_type": "markdown",
   "metadata": {},
   "source": [
    "## Week 1"
   ]
  },
  {
   "cell_type": "markdown",
   "metadata": {},
   "source": [
    "### Exercise 1:\n",
    "Write a function that receives a list as parameter and return how many elements it has; if it doesn't have any element return an error."
   ]
  },
  {
   "cell_type": "markdown",
   "metadata": {},
   "source": [
    "#### Solution 1:"
   ]
  },
  {
   "cell_type": "code",
   "execution_count": 4,
   "metadata": {},
   "outputs": [],
   "source": [
    "def count_elements(my_list):\n",
    "    count = 0\n",
    "    for i in my_list:\n",
    "        count += 1\n",
    "\n",
    "    if count == 0:\n",
    "        return \"Hata: Liste boş. Lütfen boş olmayan bir liste sağlayın.\"\n",
    "\n",
    "    return count\n"
   ]
  },
  {
   "cell_type": "markdown",
   "metadata": {},
   "source": [
    "### Exercise 2:\n",
    "Write a function that receives a string as parameter and return the number of each character in it."
   ]
  },
  {
   "cell_type": "code",
   "execution_count": 7,
   "metadata": {},
   "outputs": [],
   "source": [
    "def count_characters(input_string):\n",
    "    character_count = {}\n",
    "\n",
    "    for char in input_string:\n",
    "        if char in character_count:\n",
    "            character_count[char] += 1\n",
    "        else:\n",
    "            character_count[char] = 1\n",
    "\n",
    "    return character_count"
   ]
  }
 ],
 "metadata": {
  "kernelspec": {
   "display_name": "Python 3",
   "language": "python",
   "name": "python3"
  },
  "language_info": {
   "codemirror_mode": {
    "name": "ipython",
    "version": 3
   },
   "file_extension": ".py",
   "mimetype": "text/x-python",
   "name": "python",
   "nbconvert_exporter": "python",
   "pygments_lexer": "ipython3",
   "version": "3.10.4"
  }
 },
 "nbformat": 4,
 "nbformat_minor": 2
}
